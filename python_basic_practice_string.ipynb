{
  "nbformat": 4,
  "nbformat_minor": 0,
  "metadata": {
    "colab": {
      "provenance": []
    },
    "kernelspec": {
      "name": "python3",
      "display_name": "Python 3"
    },
    "language_info": {
      "name": "python"
    }
  },
  "cells": [
    {
      "cell_type": "markdown",
      "source": [
        "***String Based Assignment Problem***"
      ],
      "metadata": {
        "id": "g7N7FfVe4Vm0"
      }
    },
    {
      "cell_type": "code",
      "execution_count": null,
      "metadata": {
        "id": "GW19UoIL2IIZ",
        "colab": {
          "base_uri": "https://localhost:8080/"
        },
        "outputId": "75087341-be7e-4f2c-90f8-d8c2463d5411"
      },
      "outputs": [
        {
          "output_type": "stream",
          "name": "stdout",
          "text": [
            "aidnI yrtnuoc ym evol I\n"
          ]
        }
      ],
      "source": [
        "#1.Write a program to reverse a string.\n",
        "s=\"I love my country India\"\n",
        "s1=s[::-1]\n",
        "print(s1)"
      ]
    },
    {
      "cell_type": "code",
      "source": [
        "#2.Check if a string is a palindrome.\n",
        "s=str(input())\n",
        "if s==s[::-1]:\n",
        "  print(\"The string is a palindrome\")\n",
        "else :\n",
        "  print(\"The string is not a palindrome\")"
      ],
      "metadata": {
        "colab": {
          "base_uri": "https://localhost:8080/"
        },
        "id": "0vMltbQugTIq",
        "outputId": "716f3f17-c3a0-4c91-8736-41e271334d48"
      },
      "execution_count": null,
      "outputs": [
        {
          "output_type": "stream",
          "name": "stdout",
          "text": [
            "madam\n",
            "The string is a palindrome\n"
          ]
        }
      ]
    },
    {
      "cell_type": "code",
      "source": [
        "#3. Convert a string to uppercase.\n",
        "s=\"i am a very happy person\"\n",
        "s=s.upper()\n",
        "print(s)"
      ],
      "metadata": {
        "colab": {
          "base_uri": "https://localhost:8080/"
        },
        "id": "8iE5iEPypsOg",
        "outputId": "508d23e6-16c7-4299-d41e-a7072dc60749"
      },
      "execution_count": null,
      "outputs": [
        {
          "output_type": "stream",
          "name": "stdout",
          "text": [
            "I AM A VERY HAPPY PERSON\n"
          ]
        }
      ]
    },
    {
      "cell_type": "code",
      "source": [
        "#4. Convert a string to lowercase.\n",
        "s=\"EARLY TO BED AND EARLY TO RISE\"\n",
        "s=s.lower()\n",
        "print(s)"
      ],
      "metadata": {
        "colab": {
          "base_uri": "https://localhost:8080/"
        },
        "id": "N6jT-TWtsF70",
        "outputId": "6c6ca3cb-58ad-4ef8-f78c-5a21750a558d"
      },
      "execution_count": null,
      "outputs": [
        {
          "output_type": "stream",
          "name": "stdout",
          "text": [
            "early to bed and early to rise\n"
          ]
        }
      ]
    },
    {
      "cell_type": "code",
      "source": [
        "#5. Count the number of vowels in a string.\n",
        "s=str(input())\n",
        "s=s.lower()\n",
        "vowels=s.count('a')+s.count('e')+s.count('i')+s.count('o')+s.count('u')\n",
        "print(\"number of vowels in a string\",vowels)\n"
      ],
      "metadata": {
        "colab": {
          "base_uri": "https://localhost:8080/"
        },
        "id": "vp-Ot-0Us74K",
        "outputId": "a4e09b39-3841-4104-c198-aa0a6acb7fb0"
      },
      "execution_count": null,
      "outputs": [
        {
          "output_type": "stream",
          "name": "stdout",
          "text": [
            "hello today is a great day\n",
            "number of vowels in a string 9\n"
          ]
        }
      ]
    },
    {
      "cell_type": "code",
      "source": [
        "# Ask the difference to sir\n",
        "\n",
        "#6. Count the number of consonants in a string.\n",
        "s=\"helloworld\"\n",
        "s=s.lower()\n",
        "s=s.replace(\" \",\"\")\n",
        "print(s)\n",
        "tt=s.count('')\n",
        "print(tt)\n",
        "t=len(s)\n",
        "print(t)\n",
        "v=s.count('a')+s.count('e')+s.count('i')+s.count('o')+s.count('u')\n",
        "print(v)\n",
        "print(\"the number of consonants in a string:\",t-v)"
      ],
      "metadata": {
        "colab": {
          "base_uri": "https://localhost:8080/"
        },
        "id": "tnfBnCzZugVY",
        "outputId": "d5cd3f18-c388-4586-e8cf-0af731f014c0"
      },
      "execution_count": null,
      "outputs": [
        {
          "output_type": "stream",
          "name": "stdout",
          "text": [
            "helloworld\n",
            "11\n",
            "10\n",
            "3\n",
            "the number of consonants in a string: 7\n"
          ]
        }
      ]
    },
    {
      "cell_type": "code",
      "source": [
        "#7. Remove all whitespaces from a string.\n",
        "s=\"I come from land of sages\"\n",
        "s=s.replace(\" \",\"\")\n",
        "print(\"The string after removal of white space:\",s)"
      ],
      "metadata": {
        "id": "nnDIfvMK1SoW",
        "colab": {
          "base_uri": "https://localhost:8080/"
        },
        "outputId": "94ff8cdb-604f-4da5-8f83-195a46641335"
      },
      "execution_count": null,
      "outputs": [
        {
          "output_type": "stream",
          "name": "stdout",
          "text": [
            "The string after removal of white space: Icomefromlandofsages\n"
          ]
        }
      ]
    },
    {
      "cell_type": "code",
      "source": [
        "#8. Find the length of a string without using the `len()` function.\n",
        "s=\"with culture rich from ages\"\n",
        "s=s.replace(\" \",\"\")\n",
        "L=s.count(\"\")\n",
        "LL=len(s)\n",
        "print(L)\n",
        "print(LL)      # same prob occuring"
      ],
      "metadata": {
        "colab": {
          "base_uri": "https://localhost:8080/"
        },
        "id": "OqBYrCXHd6ya",
        "outputId": "8556ac2f-af77-4caf-ea38-310ce54ea883"
      },
      "execution_count": null,
      "outputs": [
        {
          "output_type": "stream",
          "name": "stdout",
          "text": [
            "24\n",
            "23\n"
          ]
        }
      ]
    },
    {
      "cell_type": "code",
      "source": [
        "#9. Check if a string contains a specific word.\n",
        "s=\"arush is the 1st boy in class\"\n",
        "print(\"arush\" in s)\n"
      ],
      "metadata": {
        "colab": {
          "base_uri": "https://localhost:8080/"
        },
        "id": "KJ1II1cKdzv0",
        "outputId": "91914361-c61d-4e8c-f73a-16ea0540ad37"
      },
      "execution_count": null,
      "outputs": [
        {
          "output_type": "stream",
          "name": "stdout",
          "text": [
            "True\n"
          ]
        }
      ]
    },
    {
      "cell_type": "code",
      "source": [
        "#10. Replace a word in a string with another word.\n",
        "s=\"you are getting old day by day\"\n",
        "s=s.replace(\"old\",\"young\")\n",
        "print(s)\n"
      ],
      "metadata": {
        "colab": {
          "base_uri": "https://localhost:8080/"
        },
        "id": "5YvrUPBwnyOW",
        "outputId": "ebb144fc-52f2-4779-9970-1ff796ff03d5"
      },
      "execution_count": null,
      "outputs": [
        {
          "output_type": "stream",
          "name": "stdout",
          "text": [
            "you are getting young day by day\n"
          ]
        }
      ]
    },
    {
      "cell_type": "code",
      "source": [
        "#11. Count the occurrences of a word in a string.\n",
        "s=\"wake up early.early to bed and early to rise\"\n",
        "print(s.count(\"early\"))"
      ],
      "metadata": {
        "colab": {
          "base_uri": "https://localhost:8080/"
        },
        "id": "WlS428GHomir",
        "outputId": "ee4de591-791d-4d3b-e69f-85225bd66705"
      },
      "execution_count": null,
      "outputs": [
        {
          "output_type": "stream",
          "name": "stdout",
          "text": [
            "3\n"
          ]
        }
      ]
    },
    {
      "cell_type": "code",
      "source": [
        "#12. Find the first occurrence of a word in a string.\n",
        "s=\"wake up early.early to bed and early to rise\"\n",
        "print(s.find(\"early\"))\n",
        "#print(s.index(\"early\"))"
      ],
      "metadata": {
        "colab": {
          "base_uri": "https://localhost:8080/"
        },
        "id": "r8pxxnYEpI-3",
        "outputId": "951d06bf-f012-407f-dcb3-3eab65cfbbce"
      },
      "execution_count": null,
      "outputs": [
        {
          "output_type": "stream",
          "name": "stdout",
          "text": [
            "8\n"
          ]
        }
      ]
    },
    {
      "cell_type": "code",
      "source": [
        "#13. Find the last occurrence of a word in a string.\n",
        "s=\"wake up early.early to bed and early to rise\"\n",
        "print(s.rfind(\"early\"))"
      ],
      "metadata": {
        "colab": {
          "base_uri": "https://localhost:8080/"
        },
        "id": "tOwzYTUMqDFj",
        "outputId": "0a1a58a8-02cb-46d9-d2d8-41323d4f6881"
      },
      "execution_count": null,
      "outputs": [
        {
          "output_type": "stream",
          "name": "stdout",
          "text": [
            "31\n"
          ]
        }
      ]
    },
    {
      "cell_type": "code",
      "source": [
        "#14. Split a string into a list of words.\n",
        "s=\"wake up early . early to bed and early to rise\"\n",
        "print(s.split())"
      ],
      "metadata": {
        "colab": {
          "base_uri": "https://localhost:8080/"
        },
        "id": "-dL0n1pnrGUY",
        "outputId": "12bae399-620e-48a3-9f16-35438a5e4aec"
      },
      "execution_count": null,
      "outputs": [
        {
          "output_type": "stream",
          "name": "stdout",
          "text": [
            "['wake', 'up', 'early', '.', 'early', 'to', 'bed', 'and', 'early', 'to', 'rise']\n"
          ]
        }
      ]
    },
    {
      "cell_type": "code",
      "source": [
        "#15. Join a list of words into a string.\n",
        "words = ['This','is','really','appreaciable']\n",
        "s=' '.join(words)\n",
        "print(s)"
      ],
      "metadata": {
        "colab": {
          "base_uri": "https://localhost:8080/"
        },
        "id": "_eACb9yisonR",
        "outputId": "f2fdca4a-59e1-4c4f-b6bc-89bf6504dd14"
      },
      "execution_count": null,
      "outputs": [
        {
          "output_type": "stream",
          "name": "stdout",
          "text": [
            "This is really appreaciable\n"
          ]
        }
      ]
    },
    {
      "cell_type": "code",
      "source": [
        "#16. Convert a string where words are separated by spaces to one where words are separated by underscores.\n",
        "s=\"Today is going to be a great day\"\n",
        "s=s.replace(\" \",\"_\")\n",
        "print(s)"
      ],
      "metadata": {
        "colab": {
          "base_uri": "https://localhost:8080/"
        },
        "id": "XO2QWXTdggjU",
        "outputId": "88c689b1-42b9-4d2c-f2e8-40dde2d23b12"
      },
      "execution_count": null,
      "outputs": [
        {
          "output_type": "stream",
          "name": "stdout",
          "text": [
            "Today_is_going_to_be_a_great_day\n"
          ]
        }
      ]
    },
    {
      "cell_type": "code",
      "source": [
        "#17. Check if a string starts with a specific word or phrase.\n",
        "s=\"something magical is going to happen today\"\n",
        "print(s.startswith(\"something\"))"
      ],
      "metadata": {
        "colab": {
          "base_uri": "https://localhost:8080/"
        },
        "id": "3LDdrOyYhE5l",
        "outputId": "9de4e052-2bc0-41d8-f71f-d8172b481468"
      },
      "execution_count": null,
      "outputs": [
        {
          "output_type": "stream",
          "name": "stdout",
          "text": [
            "True\n"
          ]
        }
      ]
    },
    {
      "cell_type": "code",
      "source": [
        "#18. Check if a string ends with a specific word or phrase.\n",
        "s=\"something magical is going to happen today\"\n",
        "print(s.endswith(\"today\"))"
      ],
      "metadata": {
        "colab": {
          "base_uri": "https://localhost:8080/"
        },
        "id": "CecZ25jhmSfv",
        "outputId": "f1a72418-d344-478a-eed6-eb87217a84d0"
      },
      "execution_count": null,
      "outputs": [
        {
          "output_type": "stream",
          "name": "stdout",
          "text": [
            "True\n"
          ]
        }
      ]
    },
    {
      "cell_type": "code",
      "source": [
        "#19. Convert a string to title case (e.g., \"hello world\" to \"Hello World\").\n",
        "s=\"something magical is going to happen today\"\n",
        "print(s.title())"
      ],
      "metadata": {
        "colab": {
          "base_uri": "https://localhost:8080/"
        },
        "id": "Z-JjuWUQmkdZ",
        "outputId": "f44bd495-6c3e-4249-8684-cb22200644d7"
      },
      "execution_count": null,
      "outputs": [
        {
          "output_type": "stream",
          "name": "stdout",
          "text": [
            "Something Magical Is Going To Happen Today\n"
          ]
        }
      ]
    },
    {
      "cell_type": "code",
      "source": [
        "#20. Find the longest word in a string.\n",
        "s=\"something magical is going to happen today\"\n",
        "s1=s.split()\n",
        "l_word=max(s1,key=len)\n",
        "print(l_word)"
      ],
      "metadata": {
        "colab": {
          "base_uri": "https://localhost:8080/"
        },
        "id": "aV2cQI0dnP82",
        "outputId": "9f251260-506b-43a4-a2f5-0ee7bef5b5ae"
      },
      "execution_count": null,
      "outputs": [
        {
          "output_type": "stream",
          "name": "stdout",
          "text": [
            "something\n"
          ]
        }
      ]
    },
    {
      "cell_type": "code",
      "source": [
        "#21. Find the shortest word in a string.\n",
        "s=\"something magical is going to happen today\"\n",
        "s1=s.split()\n",
        "s_word=min(s1,key=len)\n",
        "print(s_word)\n"
      ],
      "metadata": {
        "colab": {
          "base_uri": "https://localhost:8080/"
        },
        "id": "-qXpOlVD0pXv",
        "outputId": "9599912a-0e3e-4bec-d31a-00623d86be29"
      },
      "execution_count": null,
      "outputs": [
        {
          "output_type": "stream",
          "name": "stdout",
          "text": [
            "is\n"
          ]
        }
      ]
    },
    {
      "cell_type": "code",
      "source": [
        "#22. Reverse the order of words in a string.\n",
        "s=\"something magical is going to happen today\"\n",
        "s1=s.split()\n",
        "s1=s1[::-1]\n",
        "#print(s1)\n",
        "print(\" \".join(s1))"
      ],
      "metadata": {
        "colab": {
          "base_uri": "https://localhost:8080/"
        },
        "id": "wlMm6S_z0rUx",
        "outputId": "a232448d-dbf6-4bd1-9187-732dad22631e"
      },
      "execution_count": null,
      "outputs": [
        {
          "output_type": "stream",
          "name": "stdout",
          "text": [
            "today happen to going is magical something\n"
          ]
        }
      ]
    },
    {
      "cell_type": "code",
      "source": [
        "#23. Check if a string is alphanumeric.\n",
        "s=str(input())\n",
        "if s.isalnum() and not s.isdigit() and not s.isalpha():\n",
        "  print(\"The string is alphanumeric\")\n",
        "else:\n",
        "  print(\"The string is not alphanumeric\")"
      ],
      "metadata": {
        "colab": {
          "base_uri": "https://localhost:8080/"
        },
        "id": "7vL2AFU_1xN3",
        "outputId": "3a8ff4e5-6c84-49bd-d21d-8b13a5f95bd7"
      },
      "execution_count": null,
      "outputs": [
        {
          "output_type": "stream",
          "name": "stdout",
          "text": [
            "hello123\n",
            "The string is alphanumeric\n"
          ]
        }
      ]
    },
    {
      "cell_type": "code",
      "source": [
        "#24. Extract all digits from a string.\n",
        "\n",
        "def extract_digits(text):\n",
        "  digits=\"\"\n",
        "  for char in text:\n",
        "    if char.isdigit():\n",
        "      digits+=char\n",
        "  return digits\n",
        "text=\"24.08.2023 is a great day in 2023\"\n",
        "extracted_digits=extract_digits(text)\n",
        "print(\"The extracted digits are:\",extracted_digits)\n"
      ],
      "metadata": {
        "colab": {
          "base_uri": "https://localhost:8080/"
        },
        "id": "iTVuQJKRBAL8",
        "outputId": "a333cd8b-b99f-46d4-db11-c16b299d4f6f"
      },
      "execution_count": null,
      "outputs": [
        {
          "output_type": "stream",
          "name": "stdout",
          "text": [
            "The extracted digits are: 240820232023\n"
          ]
        }
      ]
    },
    {
      "cell_type": "code",
      "source": [
        "#25. Extract all alphabets from a string.\n",
        "\n",
        "def extract_alphabets(text):\n",
        "  alpha=\"\"\n",
        "  for i in text:\n",
        "    if i.isalpha():\n",
        "      alpha+=i\n",
        "  return alpha\n",
        "text=\"24.08.2023 is a great day in 2023\"\n",
        "extracted_alphabets=extract_alphabets(text)\n",
        "print(extracted_alphabets)"
      ],
      "metadata": {
        "id": "lOzIKuqI7IMl",
        "colab": {
          "base_uri": "https://localhost:8080/"
        },
        "outputId": "211af2e6-d805-4dce-d387-70555c2c7658"
      },
      "execution_count": null,
      "outputs": [
        {
          "output_type": "stream",
          "name": "stdout",
          "text": [
            "isagreatdayin\n"
          ]
        }
      ]
    },
    {
      "cell_type": "code",
      "source": [
        "#alternate\n",
        "text=\"24.08.2023 is a great day in 2023\"\n",
        "def extracted_alphabets(text):\n",
        "  alpha=\"\".join([i for i in text if i.isalpha()])\n",
        "  return alpha\n",
        "alphabets=extracted_alphabets(text)\n",
        "print(alphabets)"
      ],
      "metadata": {
        "colab": {
          "base_uri": "https://localhost:8080/"
        },
        "id": "evqrON1Ng6Al",
        "outputId": "b599225a-33ec-47a0-bf5a-9365fa97ea0c"
      },
      "execution_count": null,
      "outputs": [
        {
          "output_type": "stream",
          "name": "stdout",
          "text": [
            "isagreatdayin\n"
          ]
        }
      ]
    },
    {
      "cell_type": "code",
      "source": [
        "#26. Count the number of uppercase letters in a string.\n",
        "input_string=str(input())\n",
        "def count_uppercase(input_string):\n",
        "  #upper=\"\".join([i for i in input_string if i.isupper()])\n",
        "  upper=sum(1 for i in input_string if i.isupper())\n",
        "  return upper\n",
        "upper_case=count_uppercase(input_string)\n",
        "print(upper_case)"
      ],
      "metadata": {
        "id": "z_CbqOAx7NgX",
        "colab": {
          "base_uri": "https://localhost:8080/"
        },
        "outputId": "8528ac4e-ef8f-4f4b-9a83-58263ad2b6eb"
      },
      "execution_count": null,
      "outputs": [
        {
          "output_type": "stream",
          "name": "stdout",
          "text": [
            "HeLLo WoRLd\n",
            "6\n"
          ]
        }
      ]
    },
    {
      "cell_type": "code",
      "source": [
        "#27. Count the number of lowercase letters in a string.\n",
        "input_string=str(input())\n",
        "def count_lowercase(input):\n",
        "  lower=sum(1 for i in input if i.islower())\n",
        "  return lower\n",
        "\n",
        "lower_count=count_lowercase(input_string)\n",
        "print(lower_count)\n"
      ],
      "metadata": {
        "id": "Qjuf2rSK8JK5",
        "colab": {
          "base_uri": "https://localhost:8080/"
        },
        "outputId": "8c7d291d-85bb-4fe7-8af6-002441892ea0"
      },
      "execution_count": null,
      "outputs": [
        {
          "output_type": "stream",
          "name": "stdout",
          "text": [
            "HeLLo World\n",
            "6\n"
          ]
        }
      ]
    },
    {
      "cell_type": "code",
      "source": [
        "#28. Swap the case of each character in a string.\n",
        "input_string=str(input())\n",
        "def swap_case(input):\n",
        "  swap=input.swapcase()\n",
        "  return swap\n",
        "\n",
        "result=swap_case(input_string)\n",
        "print(result)"
      ],
      "metadata": {
        "id": "y4wfNykc8fZ0",
        "colab": {
          "base_uri": "https://localhost:8080/"
        },
        "outputId": "09625048-f9d6-4312-869f-050f3cae01c4"
      },
      "execution_count": null,
      "outputs": [
        {
          "output_type": "stream",
          "name": "stdout",
          "text": [
            "Hello World\n",
            "hELLO wORLD\n"
          ]
        }
      ]
    },
    {
      "cell_type": "code",
      "source": [
        "#29. Remove a specific word from a string.\n",
        "input_string=\"Today is a great fine day\"\n",
        "word_to_remove=\"great\"\n",
        "\n",
        "def remove_word(input,word):\n",
        "  x=input.split()\n",
        "  filtered=\" \".join([i for i in x if i!= word])\n",
        "  return filtered\n",
        "\n",
        "result=remove_word(input_string,word_to_remove)\n",
        "print(result)"
      ],
      "metadata": {
        "id": "qTi6z72I8jva",
        "colab": {
          "base_uri": "https://localhost:8080/"
        },
        "outputId": "5e18bfa8-af0e-483f-e156-3331938967d8"
      },
      "execution_count": null,
      "outputs": [
        {
          "output_type": "stream",
          "name": "stdout",
          "text": [
            "Today is a fine day\n"
          ]
        }
      ]
    },
    {
      "cell_type": "code",
      "source": [
        "#30. Check if a string is a valid email address.\n",
        "import re\n",
        "def is_valid_email(email):\n",
        "  pattern=r'^[\\w\\.-]+@[\\w\\.-]+\\.\\w+$'\n",
        "  if re.match(pattern,email):\n",
        "    print(\"This is a valid email address\")\n",
        "  else:\n",
        "    print(\"This is an invalid email address\")\n",
        "\n",
        "emailid=str(input())\n",
        "result=is_valid_email(emailid)\n",
        "print(result)\n"
      ],
      "metadata": {
        "id": "4MSgMRtg8oby",
        "colab": {
          "base_uri": "https://localhost:8080/"
        },
        "outputId": "cd68cd33-88d1-4f9a-f8c4-c6f86e9cadce"
      },
      "execution_count": null,
      "outputs": [
        {
          "output_type": "stream",
          "name": "stdout",
          "text": [
            "sananda@gmail.com\n",
            "This is a valid email address\n",
            "None\n"
          ]
        }
      ]
    },
    {
      "cell_type": "code",
      "source": [
        "a=10\n",
        "b=5\n",
        "print(a,b)\n",
        "a,b=b,a\n",
        "print(\"after swapping:\",a,b)"
      ],
      "metadata": {
        "id": "3EvPeifW9PTG"
      },
      "execution_count": null,
      "outputs": []
    },
    {
      "cell_type": "code",
      "source": [
        "#31. Extract the username from an email address string.\n",
        "def extract_email(email):\n",
        "  email_id=email.split('@')[0]\n",
        "  return email_id\n",
        "\n",
        "emails=\"sananda.uem@gmail.com\"\n",
        "result=extract_email(emails)\n",
        "print(result)"
      ],
      "metadata": {
        "id": "Fe8XhsTh-IQb",
        "colab": {
          "base_uri": "https://localhost:8080/"
        },
        "outputId": "78f922d6-c9bf-4a7a-a300-925db407cf12"
      },
      "execution_count": null,
      "outputs": [
        {
          "output_type": "stream",
          "name": "stdout",
          "text": [
            "sananda.uem\n"
          ]
        }
      ]
    },
    {
      "cell_type": "code",
      "source": [
        "#32. Extract the domain name from an email address string.\n",
        "def extract_domain(email):\n",
        "  domain=email.split(\"@\")[1]\n",
        "  return domain\n",
        "\n",
        "email_id=\"sananda.uem@gmail.com\"\n",
        "print(extract_domain(email_id))"
      ],
      "metadata": {
        "colab": {
          "base_uri": "https://localhost:8080/"
        },
        "id": "dtkAW2QCqaIX",
        "outputId": "324dbbd3-8b78-4cb0-a794-ea49149e997e"
      },
      "execution_count": null,
      "outputs": [
        {
          "output_type": "stream",
          "name": "stdout",
          "text": [
            "gmail.com\n"
          ]
        }
      ]
    },
    {
      "cell_type": "code",
      "source": [
        "#33. Replace multiple spaces in a string with a single space.\n",
        "def replace_space(text):\n",
        "  string=\" \".join(text.split())\n",
        "  return string\n",
        "\n",
        "my_string=\" Hey     this     is     done    on     time\"\n",
        "print(replace_space(my_string))"
      ],
      "metadata": {
        "colab": {
          "base_uri": "https://localhost:8080/"
        },
        "id": "_d7MSd2ArTAz",
        "outputId": "31d22f0e-40e5-407b-9f9c-29776f898de6"
      },
      "execution_count": null,
      "outputs": [
        {
          "output_type": "stream",
          "name": "stdout",
          "text": [
            "Hey this is done on time\n"
          ]
        }
      ]
    },
    {
      "cell_type": "code",
      "source": [
        "#34. Check if a string is a valid URL.\n",
        "from urllib.parse import urlparse\n",
        "\n",
        "def valid_url(url):\n",
        "  try:\n",
        "      result=urlparse(url)\n",
        "      return all([result.scheme,result.netloc])\n",
        "  except ValueError:\n",
        "    return False\n",
        "\n",
        "url=\"https://en.wikipedia.org/wiki/URL\"\n",
        "print(valid_url(url))"
      ],
      "metadata": {
        "colab": {
          "base_uri": "https://localhost:8080/"
        },
        "id": "njI8P75Iso_u",
        "outputId": "fdb0da45-f6b5-41dc-9469-6b0e09681ca0"
      },
      "execution_count": null,
      "outputs": [
        {
          "output_type": "stream",
          "name": "stdout",
          "text": [
            "True\n"
          ]
        }
      ]
    },
    {
      "cell_type": "code",
      "source": [
        "#35. Extract the protocol (http or https) from a URL string.\n",
        "def extract_protocol(string):\n",
        "  protocol_end=string.find(\"://\")\n",
        "  if protocol_end != -1:\n",
        "    protocol=string[:protocol_end]\n",
        "    return protocol\n",
        "\n",
        "url=\"https://en.wikipedia.org/wiki/URL\"\n",
        "print(extract_protocol(url))\n"
      ],
      "metadata": {
        "id": "zBHgsVZdwMRq",
        "colab": {
          "base_uri": "https://localhost:8080/"
        },
        "outputId": "4c6eb6d5-9d5b-4451-b96b-c981c3828066"
      },
      "execution_count": null,
      "outputs": [
        {
          "output_type": "stream",
          "name": "stdout",
          "text": [
            "https\n"
          ]
        }
      ]
    },
    {
      "cell_type": "code",
      "source": [
        "#36. Find the frequency of each character in a string.\n",
        "def char_freq(string):\n",
        "  frequency={}\n",
        "  for i in string:\n",
        "    if i in frequency:\n",
        "      frequency[i]+=1\n",
        "    else:\n",
        "      frequency[i]=1\n",
        "  return frequency\n",
        "\n",
        "my_string=\"today is beautiful\"\n",
        "#print(char_freq(my_string))\n",
        "charfreq=char_freq(my_string)\n",
        "for i,f in charfreq.items():\n",
        "  print(f\"character:'{i}', frequency:{f}\")\n",
        "#for char, freq in charfreq.items():\n",
        " #   print(f\"Character: '{char}', Frequency: {freq}\")\n",
        "\n"
      ],
      "metadata": {
        "colab": {
          "base_uri": "https://localhost:8080/"
        },
        "id": "ExkEw3nZw28Y",
        "outputId": "004b39cd-5009-4e3e-81aa-bb3bac49cf43"
      },
      "execution_count": null,
      "outputs": [
        {
          "output_type": "stream",
          "name": "stdout",
          "text": [
            "character:'t', frequency:2\n",
            "character:'o', frequency:1\n",
            "character:'d', frequency:1\n",
            "character:'a', frequency:2\n",
            "character:'y', frequency:1\n",
            "character:' ', frequency:2\n",
            "character:'i', frequency:2\n",
            "character:'s', frequency:1\n",
            "character:'b', frequency:1\n",
            "character:'e', frequency:1\n",
            "character:'u', frequency:2\n",
            "character:'f', frequency:1\n",
            "character:'l', frequency:1\n"
          ]
        }
      ]
    },
    {
      "cell_type": "code",
      "source": [
        "#37. Remove all punctuation from a string.\n",
        "import string\n",
        "def remove_punctuation(input_string):\n",
        "  translator=str.maketrans(\"\",\"\",string.punctuation)\n",
        "  clean_string=input_string.translate(translator)\n",
        "  return clean_string\n",
        "\n",
        "input_str=\"Good, MOrning: Today! is / going: to' be great.\"\n",
        "cleaned_str=remove_punctuation(input_str)\n",
        "print(f\"input_str:{input_str} \\n cleaned_str:{cleaned_str}\")\n"
      ],
      "metadata": {
        "colab": {
          "base_uri": "https://localhost:8080/"
        },
        "id": "Vt5yXG3J11kJ",
        "outputId": "4f9a9e9c-2853-4d4f-bba7-794d954de115"
      },
      "execution_count": null,
      "outputs": [
        {
          "output_type": "stream",
          "name": "stdout",
          "text": [
            "input_str:Good, MOrning: Today! is / going: to' be great. \n",
            " cleaned_str:Good MOrning Today is  going to be great\n"
          ]
        }
      ]
    },
    {
      "cell_type": "code",
      "source": [
        "#38. Check if a string contains only digits\n",
        "my_string=str(input())\n",
        "def is_digit(my_string):\n",
        "  return my_string.isdigit()\n",
        "\n",
        "result=is_digit(my_string)\n",
        "print(result)"
      ],
      "metadata": {
        "colab": {
          "base_uri": "https://localhost:8080/"
        },
        "id": "tbjXpcbD-FlB",
        "outputId": "43569c60-f169-4c79-8d92-9e4887db98c1"
      },
      "execution_count": null,
      "outputs": [
        {
          "output_type": "stream",
          "name": "stdout",
          "text": [
            "4675658776\n",
            "True\n"
          ]
        }
      ]
    },
    {
      "cell_type": "code",
      "source": [
        "#39. Check if a string contains only alphabets.\n",
        "my_string=str(input())\n",
        "def is_alpha(my_string):\n",
        "  return my_string.isalpha()\n",
        "\n",
        "result=is_alpha(my_string)\n",
        "print(result)"
      ],
      "metadata": {
        "colab": {
          "base_uri": "https://localhost:8080/"
        },
        "id": "3Ogp0wvD_ktz",
        "outputId": "97942636-a969-4fc1-91d5-cafb460ec1e6"
      },
      "execution_count": null,
      "outputs": [
        {
          "output_type": "stream",
          "name": "stdout",
          "text": [
            "kdhgcdek\n",
            "True\n"
          ]
        }
      ]
    },
    {
      "cell_type": "code",
      "source": [
        "#40. Convert a string to a list of characters.\n",
        "my_str=str(input())\n",
        "def str_to_list(string):\n",
        "  my_list=list(string)\n",
        "  return my_list\n",
        "\n",
        "result=str_to_list(my_str)\n",
        "print(result)"
      ],
      "metadata": {
        "id": "MIiklAhvp-3d",
        "colab": {
          "base_uri": "https://localhost:8080/"
        },
        "outputId": "855d2591-bbe7-4731-efd7-5c4936aa314e"
      },
      "execution_count": null,
      "outputs": [
        {
          "output_type": "stream",
          "name": "stdout",
          "text": [
            "sananda\n",
            "['s', 'a', 'n', 'a', 'n', 'd', 'a']\n"
          ]
        }
      ]
    },
    {
      "cell_type": "code",
      "source": [
        "#41.Check if two strings are anagrams.\n",
        "def are_anagrams(str1,str2):\n",
        "  str1 = str1.replace(\" \",\"\").lower()\n",
        "  str2 = str2.replace(\" \",\"\").lower()\n",
        "  return sorted(str1) == sorted(str2)\n",
        "\n",
        "string1 = \"listen\"\n",
        "string2 = \"silent\"\n",
        "string3 = \"hello\"\n",
        "string4 = \"world\"\n",
        "result1 = are_anagrams(string1,string2)\n",
        "result2 = are_anagrams(string3,string4)\n",
        "print(f\"{string1} and {string2} are anagrams: {result1}\")\n",
        "print(f\"{string3} and {string4} are anagrams: {result2}\")"
      ],
      "metadata": {
        "id": "r_Jn4FNDBrmu",
        "colab": {
          "base_uri": "https://localhost:8080/"
        },
        "outputId": "33783cdf-383e-4c8a-90e3-3bdce374b3c4"
      },
      "execution_count": null,
      "outputs": [
        {
          "output_type": "stream",
          "name": "stdout",
          "text": [
            "listen and silent are anagrams: True\n",
            "hello and world are anagrams: False\n"
          ]
        }
      ]
    },
    {
      "cell_type": "code",
      "source": [
        "#42.Encode a string using a Caesar cipher.\n",
        "def caesar_cipher(text, shift):\n",
        "    # Initialize an empty string to store the encoded text.\n",
        "  encoded_text = \"\"\n",
        "\n",
        "  # Iterate through each character in the input text.\n",
        "  for char in text:\n",
        "    # Check if the character is alphabetic.\n",
        "    if char.isalpha():\n",
        "      # Calculate the encoded character's Unicode code point value by shifting it by the specified amount.\n",
        "      # Ensure the value wraps around within the lowercase alphabet range (a-z).\n",
        "      encoded_char = chr((ord(char) + shift - ord('a')) % 26 + ord('a'))\n",
        "    else:\n",
        "      # Keep non-alphabetic characters unchanged.\n",
        "      encoded_char = char\n",
        "\n",
        "    # Add the encoded character to the encoded text.\n",
        "    encoded_text += encoded_char\n",
        "\n",
        "  # Return the resulting encoded text.\n",
        "  return encoded_text\n",
        "\n",
        "# Define the input text and the shift value for encoding.\n",
        "text = \"hello, world!\"\n",
        "shift = 3\n",
        "\n",
        "# Call the caesar_cipher function to encode the text using the specified shift.\n",
        "encoded_text = caesar_cipher(text, shift)\n",
        "\n",
        "# Print the encoded text.\n",
        "print(\"Encoded text:\", encoded_text)"
      ],
      "metadata": {
        "id": "3gk8VNDsB6xj",
        "colab": {
          "base_uri": "https://localhost:8080/"
        },
        "outputId": "6c9d26ae-cba5-42f2-cf42-f8f5de5e595c"
      },
      "execution_count": null,
      "outputs": [
        {
          "output_type": "stream",
          "name": "stdout",
          "text": [
            "Encoded text: khoor, zruog!\n"
          ]
        }
      ]
    },
    {
      "cell_type": "code",
      "source": [
        "#43."
      ],
      "metadata": {
        "id": "ZlblTeWZNFsH"
      },
      "execution_count": null,
      "outputs": []
    },
    {
      "cell_type": "code",
      "source": [
        "#44.Find the most frequent word in a string.\n",
        "import re\n",
        "from collections import counter\n"
      ],
      "metadata": {
        "id": "ELqrmqXUNQTe"
      },
      "execution_count": null,
      "outputs": []
    }
  ]
}