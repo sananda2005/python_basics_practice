{
  "nbformat": 4,
  "nbformat_minor": 0,
  "metadata": {
    "colab": {
      "provenance": []
    },
    "kernelspec": {
      "name": "python3",
      "display_name": "Python 3"
    },
    "language_info": {
      "name": "python"
    }
  },
  "cells": [
    {
      "cell_type": "markdown",
      "source": [
        "***List Based Practice Problem***"
      ],
      "metadata": {
        "id": "S0vFdthojHUt"
      }
    },
    {
      "cell_type": "code",
      "execution_count": null,
      "metadata": {
        "colab": {
          "base_uri": "https://localhost:8080/"
        },
        "id": "kyQsQzW1ixi6",
        "outputId": "526bf3b5-4582-4424-f688-0efd6fcc40e5"
      },
      "outputs": [
        {
          "output_type": "stream",
          "name": "stdout",
          "text": [
            "[1, 2, 3, 4, 5, 6, 7, 8, 9, 10]\n"
          ]
        }
      ],
      "source": [
        "#1. Create a list with integers from 1 to 10.\n",
        "#l=list(range(1,11))\n",
        "#print(l)\n",
        "integer_list=[i for i in range(1,11)]\n",
        "print(integer_list)"
      ]
    },
    {
      "cell_type": "code",
      "source": [
        "#2. Find the length of a list without using the `len()` function.\n",
        "l=[1,2,3,4,5,6,7,8,9,10]\n",
        "count=0\n",
        "for i in l:\n",
        "  count+=1\n",
        "print(count)"
      ],
      "metadata": {
        "colab": {
          "base_uri": "https://localhost:8080/"
        },
        "id": "9-5PuSUvkDek",
        "outputId": "a4ad3281-6672-4a07-936f-1402533a5f1b"
      },
      "execution_count": null,
      "outputs": [
        {
          "output_type": "stream",
          "name": "stdout",
          "text": [
            "10\n"
          ]
        }
      ]
    },
    {
      "cell_type": "code",
      "source": [
        "def custom_len(input_list):\n",
        "  count=0\n",
        "  for _ in input_list:\n",
        "    count+=1\n",
        "  return count\n",
        "\n",
        "my_list=[20,30,50,90,10]\n",
        "length=custom_len(my_list)\n",
        "print(length)\n",
        "\n"
      ],
      "metadata": {
        "colab": {
          "base_uri": "https://localhost:8080/"
        },
        "id": "t-U4SF7kN3hS",
        "outputId": "e9580dc3-2bdb-49fb-9ad7-554781225e75"
      },
      "execution_count": null,
      "outputs": [
        {
          "output_type": "stream",
          "name": "stdout",
          "text": [
            "5\n"
          ]
        }
      ]
    },
    {
      "cell_type": "code",
      "source": [
        "#3. Append an element to the end of a list.\n",
        "l=list(range(1,6))\n",
        "l.append(7)\n",
        "l"
      ],
      "metadata": {
        "colab": {
          "base_uri": "https://localhost:8080/"
        },
        "id": "EXZX5o8jeYg6",
        "outputId": "f45612df-3fa1-419c-a8af-faf8f38d996e"
      },
      "execution_count": null,
      "outputs": [
        {
          "output_type": "execute_result",
          "data": {
            "text/plain": [
              "[1, 2, 3, 4, 5, 7]"
            ]
          },
          "metadata": {},
          "execution_count": 14
        }
      ]
    },
    {
      "cell_type": "code",
      "source": [
        "#4. Insert an element at a specific index in a list.\n",
        "l=list(range(1,5))\n",
        "print(l)\n",
        "l.insert(3,10)\n",
        "l"
      ],
      "metadata": {
        "colab": {
          "base_uri": "https://localhost:8080/"
        },
        "id": "-Fe8Uqjafuok",
        "outputId": "9133a1fc-779e-482e-ba14-c170ff67c43b"
      },
      "execution_count": null,
      "outputs": [
        {
          "output_type": "stream",
          "name": "stdout",
          "text": [
            "[1, 2, 3, 4]\n"
          ]
        },
        {
          "output_type": "execute_result",
          "data": {
            "text/plain": [
              "[1, 2, 3, 10, 4]"
            ]
          },
          "metadata": {},
          "execution_count": 9
        }
      ]
    },
    {
      "cell_type": "code",
      "source": [
        "#5. Remove an element from a list by its value\n",
        "my_list=list(range(1,10))\n",
        "my_list.remove(5)\n",
        "my_list"
      ],
      "metadata": {
        "colab": {
          "base_uri": "https://localhost:8080/"
        },
        "id": "67EL_FYVgUW8",
        "outputId": "0d3d60c7-578d-4d47-c70d-d4c8eb679bf0"
      },
      "execution_count": null,
      "outputs": [
        {
          "output_type": "execute_result",
          "data": {
            "text/plain": [
              "[1, 2, 3, 4, 6, 7, 8, 9]"
            ]
          },
          "metadata": {},
          "execution_count": 17
        }
      ]
    },
    {
      "cell_type": "code",
      "source": [
        "#6. Remove an element from a list by its index.\n",
        "my_list=list(range(1,10))\n",
        "print(my_list)\n",
        "my_list.pop(2)\n",
        "print(my_list)\n",
        "my_list.pop()\n",
        "print(my_list)"
      ],
      "metadata": {
        "colab": {
          "base_uri": "https://localhost:8080/"
        },
        "id": "H1_ibeb6o9mc",
        "outputId": "12288d8b-1d07-4edc-9edc-345245ab24b5"
      },
      "execution_count": null,
      "outputs": [
        {
          "output_type": "stream",
          "name": "stdout",
          "text": [
            "[1, 2, 3, 4, 5, 6, 7, 8, 9]\n",
            "[1, 2, 4, 5, 6, 7, 8, 9]\n",
            "[1, 2, 4, 5, 6, 7, 8]\n"
          ]
        }
      ]
    },
    {
      "cell_type": "code",
      "source": [
        "#7. Check if an element exists in a list.\n",
        "my_list=list(range(1,10))\n",
        "if 5 in my_list:\n",
        "  print(\"yes\")\n",
        "else:\n",
        "  print(\"no\")"
      ],
      "metadata": {
        "colab": {
          "base_uri": "https://localhost:8080/"
        },
        "id": "Rez89XiJqNYl",
        "outputId": "73e06c5d-91b3-4de2-bfe2-1640866ab111"
      },
      "execution_count": null,
      "outputs": [
        {
          "output_type": "stream",
          "name": "stdout",
          "text": [
            "yes\n"
          ]
        }
      ]
    },
    {
      "cell_type": "code",
      "source": [
        "#8. Find the index of the first occurrence of an element in a list.\n",
        "list1=[1,2,4,3,2,4,2,3,5,4]\n",
        "list1.index(4)"
      ],
      "metadata": {
        "colab": {
          "base_uri": "https://localhost:8080/"
        },
        "id": "-OlVHYoKtxkW",
        "outputId": "fc5d8097-3af4-434a-b638-16d5ae716f1e"
      },
      "execution_count": null,
      "outputs": [
        {
          "output_type": "execute_result",
          "data": {
            "text/plain": [
              "2"
            ]
          },
          "metadata": {},
          "execution_count": 24
        }
      ]
    },
    {
      "cell_type": "code",
      "source": [
        "#9. Count the occurrences of an element in a list.\n",
        "list1=[1,2,4,3,2,4,2,3,5,4]\n",
        "list1.count(3)"
      ],
      "metadata": {
        "colab": {
          "base_uri": "https://localhost:8080/"
        },
        "id": "yNXO-iKEy19J",
        "outputId": "a4c163db-3169-45e9-d950-32cdd907233c"
      },
      "execution_count": null,
      "outputs": [
        {
          "output_type": "execute_result",
          "data": {
            "text/plain": [
              "2"
            ]
          },
          "metadata": {},
          "execution_count": 29
        }
      ]
    },
    {
      "cell_type": "code",
      "source": [
        "#10. Reverse the order of elements in a list.\n",
        "print(my_list)\n",
        "my_list.reverse()\n",
        "print(my_list)\n",
        "#my_list[::-1]"
      ],
      "metadata": {
        "colab": {
          "base_uri": "https://localhost:8080/"
        },
        "id": "C6wuZh710LWx",
        "outputId": "0ebb8150-3647-46d4-ca58-4b8519b3957b"
      },
      "execution_count": null,
      "outputs": [
        {
          "output_type": "stream",
          "name": "stdout",
          "text": [
            "[8, 7, 6, 5, 4, 2, 1]\n",
            "[1, 2, 4, 5, 6, 7, 8]\n"
          ]
        }
      ]
    },
    {
      "cell_type": "code",
      "source": [
        "#11. Sort a list in ascending order.\n",
        "list1=[9,5,2,7,4,8,10]\n",
        "#slist1=sorted(list1)\n",
        "print(list1)\n",
        "list1.sort()\n",
        "print(list1)\n"
      ],
      "metadata": {
        "colab": {
          "base_uri": "https://localhost:8080/"
        },
        "id": "d0KvxGfi0hmJ",
        "outputId": "e6bc43f0-f8b2-4cfa-c51b-eb30a791cfae"
      },
      "execution_count": null,
      "outputs": [
        {
          "output_type": "stream",
          "name": "stdout",
          "text": [
            "[9, 5, 2, 7, 4, 8, 10]\n",
            "[2, 4, 5, 7, 8, 9, 10]\n"
          ]
        }
      ]
    },
    {
      "cell_type": "code",
      "source": [
        "#12. Sort a list in descending order.\n",
        "list1=[9,5,2,7,4,8,10]\n",
        "#rslist1=sorted(list1,reverse=True)\n",
        "print(list1)\n",
        "list1.sort(reverse=True)\n",
        "print(list1)"
      ],
      "metadata": {
        "colab": {
          "base_uri": "https://localhost:8080/"
        },
        "id": "1u2HVde82Hb9",
        "outputId": "fc4bf160-1197-4af1-937a-20d5d1a9b437"
      },
      "execution_count": null,
      "outputs": [
        {
          "output_type": "stream",
          "name": "stdout",
          "text": [
            "[9, 5, 2, 7, 4, 8, 10]\n",
            "[10, 9, 8, 7, 5, 4, 2]\n"
          ]
        }
      ]
    },
    {
      "cell_type": "code",
      "source": [
        "#13. Create a list of even numbers from 1 to 20.\n",
        "#even_numbers=[i for i in range(1,21) if i%2==0]\n",
        "even_numbers=[i for i in range(2,21,2)]\n",
        "print(even_numbers)"
      ],
      "metadata": {
        "colab": {
          "base_uri": "https://localhost:8080/"
        },
        "id": "JpS-ZEuc20or",
        "outputId": "85f1b62c-7d2b-4907-9bdc-877dc2f3a0c9"
      },
      "execution_count": null,
      "outputs": [
        {
          "output_type": "stream",
          "name": "stdout",
          "text": [
            "[2, 4, 6, 8, 10, 12, 14, 16, 18, 20]\n"
          ]
        }
      ]
    },
    {
      "cell_type": "code",
      "source": [
        "#14. Create a list of odd numbers from 1 to 20.\n",
        "#odd_numbers=[i for i in range(1,20) if i%2!=0]\n",
        "odd_numbers=[i for i in range(1,21,2)]\n",
        "print(odd_numbers)"
      ],
      "metadata": {
        "colab": {
          "base_uri": "https://localhost:8080/"
        },
        "id": "5117Y4zM4eoI",
        "outputId": "2b1250ff-fcfd-4ae1-ba1b-f59a4eae6c71"
      },
      "execution_count": null,
      "outputs": [
        {
          "output_type": "stream",
          "name": "stdout",
          "text": [
            "[1, 3, 5, 7, 9, 11, 13, 15, 17, 19]\n"
          ]
        }
      ]
    },
    {
      "cell_type": "code",
      "source": [
        "#15. Find the sum of all elements in a list.\n",
        "my_list=list(range(1,11))\n",
        "sum_my_list=sum(my_list)\n",
        "print(sum_my_list)"
      ],
      "metadata": {
        "colab": {
          "base_uri": "https://localhost:8080/"
        },
        "id": "2eV2uoXC4wn-",
        "outputId": "51716430-e142-4e36-a9d8-28f70f8dbbda"
      },
      "execution_count": null,
      "outputs": [
        {
          "output_type": "stream",
          "name": "stdout",
          "text": [
            "55\n"
          ]
        }
      ]
    },
    {
      "cell_type": "code",
      "source": [
        "#16. Find the maximum value in a list.\n",
        "my_list\n",
        "max_value=max(my_list)\n",
        "print(max_value)"
      ],
      "metadata": {
        "colab": {
          "base_uri": "https://localhost:8080/"
        },
        "id": "QVR-5bO067Kf",
        "outputId": "6bd4a32a-2ca3-4fe5-c364-2bca402b1896"
      },
      "execution_count": null,
      "outputs": [
        {
          "output_type": "stream",
          "name": "stdout",
          "text": [
            "10\n"
          ]
        }
      ]
    },
    {
      "cell_type": "code",
      "source": [
        "#17. Find the minimum value in a list.\n",
        "my_list\n",
        "min_value=min(my_list)\n",
        "print(min_value)"
      ],
      "metadata": {
        "colab": {
          "base_uri": "https://localhost:8080/"
        },
        "id": "zmP1fTfA7nfA",
        "outputId": "37222705-e40b-4bfb-e141-14153d347585"
      },
      "execution_count": null,
      "outputs": [
        {
          "output_type": "stream",
          "name": "stdout",
          "text": [
            "1\n"
          ]
        }
      ]
    },
    {
      "cell_type": "code",
      "source": [
        "#18. Create a list of squares of numbers from 1 to 10.\n",
        "#my_list=list(range(1,11))\n",
        "s_my_list=[x**2 for x in range(1,11)]\n",
        "print(s_my_list)"
      ],
      "metadata": {
        "colab": {
          "base_uri": "https://localhost:8080/"
        },
        "id": "3Kkg1g5573eg",
        "outputId": "28fcc0e4-2fbe-4721-caa9-38b777dd5572"
      },
      "execution_count": null,
      "outputs": [
        {
          "output_type": "stream",
          "name": "stdout",
          "text": [
            "[1, 4, 9, 16, 25, 36, 49, 64, 81, 100]\n"
          ]
        }
      ]
    },
    {
      "cell_type": "code",
      "source": [
        "#19. Create a list of random numbers.\n",
        "import random\n",
        "r_num = [random.randint(1,20) for i in range(10)]\n",
        "print(r_num)"
      ],
      "metadata": {
        "colab": {
          "base_uri": "https://localhost:8080/"
        },
        "id": "d43WSjJRSHIf",
        "outputId": "238a8a06-850a-4599-873b-e77577cd96f6"
      },
      "execution_count": null,
      "outputs": [
        {
          "output_type": "stream",
          "name": "stdout",
          "text": [
            "[9, 20, 12, 7, 6, 13, 8, 7, 4, 3]\n"
          ]
        }
      ]
    },
    {
      "cell_type": "code",
      "source": [
        "#20. Remove duplicates from a list.\n",
        "list1=[1,2,4,3,2,4,2,3,5,4]\n",
        "f_list1=list(set(list1))\n",
        "print(f_list1)"
      ],
      "metadata": {
        "colab": {
          "base_uri": "https://localhost:8080/"
        },
        "id": "4nj65W69QYrl",
        "outputId": "d9a60f03-5968-4c1c-9ef5-cee074019511"
      },
      "execution_count": null,
      "outputs": [
        {
          "output_type": "stream",
          "name": "stdout",
          "text": [
            "[1, 2, 3, 4, 5]\n"
          ]
        }
      ]
    },
    {
      "cell_type": "code",
      "source": [
        "#21. Find the common elements between two lists.\n",
        "list1=[2,3,4,1,3,4,5]\n",
        "list2=[3,4,2,5,6,7,7]\n",
        "#c_e=set(list1)& set(list2)\n",
        "#common_elements=list(c_e)\n",
        "common_elements=list(set(list1)&set(list2))\n",
        "print(\"the common elements:\",common_elements)"
      ],
      "metadata": {
        "colab": {
          "base_uri": "https://localhost:8080/"
        },
        "id": "2fzOw601Rgnd",
        "outputId": "c98039d3-1504-429d-ada5-e774c938d8e3"
      },
      "execution_count": null,
      "outputs": [
        {
          "output_type": "stream",
          "name": "stdout",
          "text": [
            "the common elements: [2, 3, 4, 5]\n"
          ]
        }
      ]
    },
    {
      "cell_type": "code",
      "source": [
        "#22. Find the difference between two lists.\n",
        "list1=[2,3,4,1,3,4,5]\n",
        "list2=[3,4,2,5,6,7,7]\n",
        "#d_e=set(list1)-set(list2)\n",
        "#different_elements=list(d_e)\n",
        "different_elements=list(set(list1).difference(set(list2)))\n",
        "print(\"the different elements:\",different_elements)"
      ],
      "metadata": {
        "colab": {
          "base_uri": "https://localhost:8080/"
        },
        "id": "fmr_JF8gRgT5",
        "outputId": "2613fb42-cbf3-4618-8926-8f6ab7ad2a25"
      },
      "execution_count": null,
      "outputs": [
        {
          "output_type": "stream",
          "name": "stdout",
          "text": [
            "the different elements: [1]\n"
          ]
        }
      ]
    },
    {
      "cell_type": "code",
      "source": [
        "#list comprehension method(Alternative method)\n",
        "difference=[i for i in list1 if i not in list2]\n",
        "print(difference)"
      ],
      "metadata": {
        "colab": {
          "base_uri": "https://localhost:8080/"
        },
        "id": "pbff36kmW63r",
        "outputId": "c334e3bb-6cc7-40e8-8150-6d4ff0b975a4"
      },
      "execution_count": null,
      "outputs": [
        {
          "output_type": "stream",
          "name": "stdout",
          "text": [
            "[1]\n"
          ]
        }
      ]
    },
    {
      "cell_type": "code",
      "source": [
        "#23. Merge two lists.\n",
        "list1=[2,3,4,1,3,4,5]\n",
        "list2=[3,4,2,5,6,7,7]\n",
        "#list1.extend(list2)\n",
        "print(list1)\n",
        "print(list2)\n",
        "merged_list=list1+list2\n",
        "print(merged_list)"
      ],
      "metadata": {
        "colab": {
          "base_uri": "https://localhost:8080/"
        },
        "id": "XuuIKAVdYJnh",
        "outputId": "fff81ac6-6a40-4b9b-b3c1-10ace822731b"
      },
      "execution_count": null,
      "outputs": [
        {
          "output_type": "stream",
          "name": "stdout",
          "text": [
            "[2, 3, 4, 1, 3, 4, 5]\n",
            "[3, 4, 2, 5, 6, 7, 7]\n",
            "[2, 3, 4, 1, 3, 4, 5, 3, 4, 2, 5, 6, 7, 7]\n"
          ]
        }
      ]
    },
    {
      "cell_type": "code",
      "source": [
        "#24. Multiply all elements in a list by 2.\n",
        "list1=[2,3,4,5]\n",
        "m_list1=[i*2 for i in list1]\n",
        "print(m_list1)"
      ],
      "metadata": {
        "colab": {
          "base_uri": "https://localhost:8080/"
        },
        "id": "3jvFNM_PZolX",
        "outputId": "1f7c1674-2915-4422-dae2-3772483315e2"
      },
      "execution_count": null,
      "outputs": [
        {
          "output_type": "stream",
          "name": "stdout",
          "text": [
            "[4, 6, 8, 10]\n"
          ]
        }
      ]
    },
    {
      "cell_type": "code",
      "source": [
        "#25. Filter out all even numbers from a list.\n",
        "l=[1,2,3,4,5,6,7,8,9,10]\n",
        "f_l=[i for i in l if i%2!=0]\n",
        "print(f_l)"
      ],
      "metadata": {
        "colab": {
          "base_uri": "https://localhost:8080/"
        },
        "id": "bPkIMahya3AU",
        "outputId": "9cedc682-ea14-44c5-88c6-505b29c9dcaf"
      },
      "execution_count": null,
      "outputs": [
        {
          "output_type": "stream",
          "name": "stdout",
          "text": [
            "[1, 3, 5, 7, 9]\n"
          ]
        }
      ]
    },
    {
      "cell_type": "code",
      "source": [
        "#26. Convert a list of strings to a list of integers.\n",
        "string_list=[\"2\",\"4\",\"3\",\"5\"]\n",
        "integer_list=[int(i) for i in string_list]\n",
        "#integer_list=list(map(int,string_list))\n",
        "print(integer_list)"
      ],
      "metadata": {
        "colab": {
          "base_uri": "https://localhost:8080/"
        },
        "id": "hv_CrfXrNdV1",
        "outputId": "6b90847d-2fb5-4079-9f2e-c0dda7ebeb03"
      },
      "execution_count": null,
      "outputs": [
        {
          "output_type": "stream",
          "name": "stdout",
          "text": [
            "[2, 4, 3, 5]\n"
          ]
        }
      ]
    },
    {
      "cell_type": "code",
      "source": [
        "#27. Convert a list of integers to a list of strings.\n",
        "integer_list=[2,3,4,5]\n",
        "string_list=[str(i) for i in integer_list]\n",
        "print(string_list)"
      ],
      "metadata": {
        "colab": {
          "base_uri": "https://localhost:8080/"
        },
        "id": "EDs2k2J-eKk5",
        "outputId": "cab61f59-6380-47e9-84af-891fb12592ed"
      },
      "execution_count": null,
      "outputs": [
        {
          "output_type": "stream",
          "name": "stdout",
          "text": [
            "['2', '3', '4', '5']\n"
          ]
        }
      ]
    },
    {
      "cell_type": "code",
      "source": [
        "#28. Flatten a nested list.\n",
        "nested_list=[[1,2,3],[3,4,5],[6,7]]\n",
        "def flatten_list(nested):\n",
        "  flattened=[]\n",
        "  for sublist in nested:\n",
        "    if isinstance(sublist,list):\n",
        "      flattened.extend(flatten_list(sublist))\n",
        "    else:\n",
        "      flattened.append(sublist)\n",
        "  return flattened\n",
        "\n",
        "flattened_list=flatten_list(nested_list)\n",
        "print(flattened_list)"
      ],
      "metadata": {
        "colab": {
          "base_uri": "https://localhost:8080/"
        },
        "id": "MiU5XEkpe-Rv",
        "outputId": "24c4693e-6109-4bac-c74d-3295da987011"
      },
      "execution_count": null,
      "outputs": [
        {
          "output_type": "stream",
          "name": "stdout",
          "text": [
            "[1, 2, 3, 3, 4, 5, 6, 7]\n"
          ]
        }
      ]
    },
    {
      "cell_type": "code",
      "source": [
        "#29. Create a list of the first 10 Fibonacci numbers.\n",
        "def generate_fibonacci(n):\n",
        "  fibonacci_list=[0,1]\n",
        "\n",
        "  for i in range(2,n):\n",
        "    next_fibonacci=fibonacci_list[i-1]+fibonacci_list[i-2]\n",
        "    fibonacci_list.append(next_fibonacci)\n",
        "\n",
        "  return fibonacci_list\n",
        "\n",
        "fibonacci_numbers=generate_fibonacci(10)\n",
        "print(fibonacci_numbers)\n",
        "\n",
        "\n"
      ],
      "metadata": {
        "id": "5eupUTWShveY",
        "colab": {
          "base_uri": "https://localhost:8080/"
        },
        "outputId": "a7cc1b1c-8091-46f5-838d-710affae07ac"
      },
      "execution_count": null,
      "outputs": [
        {
          "output_type": "stream",
          "name": "stdout",
          "text": [
            "[0, 1, 1, 2, 3, 5, 8, 13, 21, 34]\n"
          ]
        }
      ]
    },
    {
      "cell_type": "code",
      "source": [
        "#30. Check if a list is sorted.\n",
        "def is_sorted_ascending(lst):\n",
        "  for i in range(1,len(lst)):\n",
        "    if lst[i]<lst[i-1]:\n",
        "      return False\n",
        "  return True\n",
        "\n",
        "ascending_list=[20,50,60,90,100]\n",
        "if is_sorted_ascending(ascending_list):\n",
        "  print(\"the list is sorted in ascending order\")\n",
        "else:\n",
        "  print(\"the list is not sorted\")"
      ],
      "metadata": {
        "colab": {
          "base_uri": "https://localhost:8080/"
        },
        "id": "EKSVBkcG4tNU",
        "outputId": "b4114338-419f-4b96-8553-87670bdb5c76"
      },
      "execution_count": null,
      "outputs": [
        {
          "output_type": "stream",
          "name": "stdout",
          "text": [
            "the list is sorted in ascending order\n"
          ]
        }
      ]
    },
    {
      "cell_type": "code",
      "source": [
        "#31. Rotate a list to the left by `n` positions.\n",
        "def rotate_left(lst,n):\n",
        "  n=n%len(lst)\n",
        "  rotated=lst[n:]+lst[:n]\n",
        "  return rotated\n",
        "\n",
        "my_list=[1,2,3,4,5,6]\n",
        "n=4\n",
        "rotated_list=rotate_left(my_list,n)\n",
        "print(rotated_list)\n"
      ],
      "metadata": {
        "id": "Rm0mJTK9TUTg",
        "colab": {
          "base_uri": "https://localhost:8080/"
        },
        "outputId": "7445fc8d-7ebd-469e-8c59-410ebbcddccf"
      },
      "execution_count": null,
      "outputs": [
        {
          "output_type": "stream",
          "name": "stdout",
          "text": [
            "[5, 6, 1, 2, 3, 4]\n"
          ]
        }
      ]
    },
    {
      "cell_type": "code",
      "source": [
        "#32. Rotate a list to the right by `n` positions.\n",
        "def rotate_right(lst,n):\n",
        "  n=n%len(lst)\n",
        "  rotated=lst[-n:]+lst[:-n]\n",
        "  return rotated\n",
        "\n",
        "my_list=[1,2,3,4,5,6,7]\n",
        "n=4\n",
        "rotated_list=rotate_right(my_list,n)\n",
        "print(rotated_list)"
      ],
      "metadata": {
        "colab": {
          "base_uri": "https://localhost:8080/"
        },
        "id": "nVeb2JOxctjl",
        "outputId": "adf2d046-d75f-4a47-b88a-54c963795e36"
      },
      "execution_count": null,
      "outputs": [
        {
          "output_type": "stream",
          "name": "stdout",
          "text": [
            "[4, 5, 6, 7, 1, 2, 3]\n"
          ]
        }
      ]
    },
    {
      "cell_type": "code",
      "source": [
        "#33. Create a list of prime numbers up to 50.\n",
        "#def is_prime(num):\n",
        "#   if num<=1:\n",
        "#    return False\n",
        "#  if num<=3:\n",
        "#    return True\n",
        "# if num%2==0 or num%3==0:\n",
        "#    return False\n",
        "#  i=5\n",
        "#  while i*i <=num:\n",
        "#    if num%i==0 or num%(i+2)==0:\n",
        "#      return False\n",
        "#    i+=6\n",
        "#  return True\n",
        "\n",
        "def is_prime(num):\n",
        "  if num<=1:\n",
        "    return False\n",
        "  for i in range(2,int(num**0.5)+1):\n",
        "    if num%i == 0:\n",
        "      return False\n",
        "  return True\n",
        "\n",
        "prime_numbers=[num for num in range(2,51) if is_prime(num)]\n",
        "print(prime_numbers)\n",
        "\n",
        "\n"
      ],
      "metadata": {
        "colab": {
          "base_uri": "https://localhost:8080/"
        },
        "id": "U8xftbg8eiXJ",
        "outputId": "cd2d628d-726a-4398-95af-dde95a00025a"
      },
      "execution_count": null,
      "outputs": [
        {
          "output_type": "stream",
          "name": "stdout",
          "text": [
            "[2, 3, 5, 7, 11, 13, 17, 19, 23, 29, 31, 37, 41, 43, 47]\n"
          ]
        }
      ]
    },
    {
      "cell_type": "code",
      "source": [
        "#34. Split a list into chunks of size `n`.\n"
      ],
      "metadata": {
        "id": "9RU-ucr1jBoe"
      },
      "execution_count": null,
      "outputs": []
    }
  ]
}